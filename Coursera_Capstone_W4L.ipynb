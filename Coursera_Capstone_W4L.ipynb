{
 "cells": [
  {
   "cell_type": "markdown",
   "metadata": {},
   "source": [
    "# My DataScience Capstone Notebook"
   ]
  },
  {
   "cell_type": "markdown",
   "metadata": {},
   "source": [
    "## Target Audience\n",
    "Tourists who want to plan a holiday with specific tastes can use this analysis to find new domestic and international locations based on their experiences on previous holidays. For example if you enjoyed a holiday because a city has alot of museums, then this analysis will group cities with similar museums for you to try.\n",
    "\n",
    "\n",
    "## Purpose\n",
    "Group similar major cities around the world to help travellers select a more targeted holiday selection based on their personal preferences.\n",
    "\n",
    "\n",
    "## Data\n",
    "Foursquare Places API - grouped by category  \n",
    "International Cities with Geo Coding - grouped by country\n",
    "\n"
   ]
  },
  {
   "cell_type": "code",
   "execution_count": null,
   "metadata": {},
   "outputs": [],
   "source": []
  },
  {
   "cell_type": "code",
   "execution_count": null,
   "metadata": {},
   "outputs": [],
   "source": []
  },
  {
   "cell_type": "code",
   "execution_count": null,
   "metadata": {},
   "outputs": [],
   "source": []
  },
  {
   "cell_type": "code",
   "execution_count": null,
   "metadata": {},
   "outputs": [],
   "source": []
  }
 ],
 "metadata": {
  "kernelspec": {
   "display_name": "Python 3",
   "language": "python",
   "name": "python3"
  },
  "language_info": {
   "codemirror_mode": {
    "name": "ipython",
    "version": 3
   },
   "file_extension": ".py",
   "mimetype": "text/x-python",
   "name": "python",
   "nbconvert_exporter": "python",
   "pygments_lexer": "ipython3",
   "version": "3.6.4"
  }
 },
 "nbformat": 4,
 "nbformat_minor": 2
}
